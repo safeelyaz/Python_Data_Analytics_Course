{
  "cells": [
    {
      "cell_type": "markdown",
      "id": "47f7f9a6",
      "metadata": {
        "id": "47f7f9a6"
      },
      "source": [
        "<a target=\"_blank\" href=\"https://colab.research.google.com/github/lukebarousse/Python_Data_Analytics_Course/blob/main/4_Problems/1_16_Functions.ipynb\">\n",
        "  <img src=\"https://colab.research.google.com/assets/colab-badge.svg\" alt=\"Open In Colab\"/>\n",
        "</a>"
      ]
    },
    {
      "cell_type": "markdown",
      "id": "1db181cf",
      "metadata": {
        "id": "1db181cf"
      },
      "source": [
        "## 🟩 Job Title Contains (1.16.1)"
      ]
    },
    {
      "cell_type": "code",
      "execution_count": null,
      "id": "740b79a1",
      "metadata": {
        "id": "740b79a1"
      },
      "outputs": [],
      "source": [
        "# Code Needed\n",
        "job_title = 'Data Scientist'\n",
        "keyword = 'Data'"
      ]
    },
    {
      "cell_type": "markdown",
      "id": "1732d805",
      "metadata": {
        "id": "1732d805"
      },
      "source": [
        "---"
      ]
    },
    {
      "cell_type": "markdown",
      "id": "14e34822",
      "metadata": {
        "id": "14e34822"
      },
      "source": [
        "## 🟩 Average Salary (1.16.2)"
      ]
    },
    {
      "cell_type": "code",
      "execution_count": 2,
      "id": "7662927c",
      "metadata": {
        "id": "7662927c",
        "outputId": "1190621c-6b64-4d6b-a7e9-e376a1d69796",
        "colab": {
          "base_uri": "https://localhost:8080/"
        }
      },
      "outputs": [
        {
          "output_type": "execute_result",
          "data": {
            "text/plain": [
              "108000.0"
            ]
          },
          "metadata": {},
          "execution_count": 2
        }
      ],
      "source": [
        "# Code Needed\n",
        "import numpy as np\n",
        "def avg_sal(sal_list):\n",
        "  return np.mean(sal_list)\n",
        "\n",
        "salaries = [95000, 120000, 105000, 90000, 130000]\n",
        "avg_sal(salaries)"
      ]
    },
    {
      "cell_type": "markdown",
      "id": "1e9a1c7b",
      "metadata": {
        "id": "1e9a1c7b"
      },
      "source": [
        "---"
      ]
    },
    {
      "cell_type": "markdown",
      "id": "21247fbc",
      "metadata": {
        "id": "21247fbc"
      },
      "source": [
        "## 🟨 Salary Statistics (1.16.3)"
      ]
    },
    {
      "cell_type": "code",
      "execution_count": 5,
      "id": "a1b6cf11",
      "metadata": {
        "id": "a1b6cf11",
        "outputId": "46575b55-2807-4347-b333-aad25352c4c3",
        "colab": {
          "base_uri": "https://localhost:8080/",
          "height": 110
        }
      },
      "outputs": [
        {
          "output_type": "error",
          "ename": "SyntaxError",
          "evalue": "invalid syntax (<ipython-input-5-008f461fb753>, line 4)",
          "traceback": [
            "\u001b[0;36m  File \u001b[0;32m\"<ipython-input-5-008f461fb753>\"\u001b[0;36m, line \u001b[0;32m4\u001b[0m\n\u001b[0;31m    return np.mean(sal_list),   return np.median(sal_list)\u001b[0m\n\u001b[0m                                ^\u001b[0m\n\u001b[0;31mSyntaxError\u001b[0m\u001b[0;31m:\u001b[0m invalid syntax\n"
          ]
        }
      ],
      "source": [
        "# Code Needed\n",
        "import numpy as np\n",
        "def sal_statistics(sal_list):\n",
        "  return np.mean(sal_list)\n",
        "  return np.median(sal_list)\n",
        "\n",
        "salaries = [95000, 120000, 105000, 90000, 130000]\n",
        "sal_statistics(salaries)\n",
        "\n"
      ]
    },
    {
      "cell_type": "markdown",
      "id": "99eed404",
      "metadata": {
        "id": "99eed404"
      },
      "source": [
        "---"
      ]
    },
    {
      "cell_type": "markdown",
      "id": "e833849f",
      "metadata": {
        "id": "e833849f"
      },
      "source": [
        "## 🟥 Job Posting Summary (1.16.4)"
      ]
    },
    {
      "cell_type": "code",
      "execution_count": null,
      "id": "cb857ad6",
      "metadata": {
        "id": "cb857ad6"
      },
      "outputs": [],
      "source": [
        "# Code Needed\n",
        "job_postings = [\n",
        "    {'title': 'Data Scientist', 'location': 'New York', 'salary': 95000},\n",
        "    {'title': 'Data Analyst', 'location': 'San Francisco', 'salary': 85000},\n",
        "    {'title': 'Machine Learning Engineer', 'location': 'New York', 'salary': 115000}\n",
        "]"
      ]
    },
    {
      "cell_type": "markdown",
      "id": "8b082c95",
      "metadata": {
        "id": "8b082c95"
      },
      "source": [
        "---"
      ]
    }
  ],
  "metadata": {
    "colab": {
      "provenance": []
    },
    "language_info": {
      "name": "python"
    },
    "kernelspec": {
      "name": "python3",
      "display_name": "Python 3"
    }
  },
  "nbformat": 4,
  "nbformat_minor": 5
}