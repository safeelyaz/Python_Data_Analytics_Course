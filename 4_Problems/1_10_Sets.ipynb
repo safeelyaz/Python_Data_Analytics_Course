{
  "cells": [
    {
      "cell_type": "markdown",
      "id": "5c289cc9",
      "metadata": {
        "id": "5c289cc9"
      },
      "source": [
        "<a target=\"_blank\" href=\"https://colab.research.google.com/github/lukebarousse/Python_Data_Analytics_Course/blob/main/4_Problems/1_10_Sets.ipynb\">\n",
        "  <img src=\"https://colab.research.google.com/assets/colab-badge.svg\" alt=\"Open In Colab\"/>\n",
        "</a>"
      ]
    },
    {
      "cell_type": "markdown",
      "id": "96889df9",
      "metadata": {
        "id": "96889df9"
      },
      "source": [
        "## 🟩 Add Job Title to Set (1.10.1)"
      ]
    },
    {
      "cell_type": "code",
      "execution_count": 2,
      "id": "6fb688cc",
      "metadata": {
        "id": "6fb688cc",
        "outputId": "f9621028-df8a-49f5-ee95-cb716830a27f",
        "colab": {
          "base_uri": "https://localhost:8080/"
        }
      },
      "outputs": [
        {
          "output_type": "execute_result",
          "data": {
            "text/plain": [
              "{'Data Analyst',\n",
              " 'Data Engineer',\n",
              " 'Data Scientist',\n",
              " 'Machine Learning Engineer'}"
            ]
          },
          "metadata": {},
          "execution_count": 2
        }
      ],
      "source": [
        "# Code Needed\n",
        "unique_job_titles = {'Data Scientist', 'Data Analyst', 'Machine Learning Engineer'}\n",
        "unique_job_titles.add('Data Engineer')\n",
        "unique_job_titles"
      ]
    },
    {
      "cell_type": "markdown",
      "id": "2ce68b60",
      "metadata": {
        "id": "2ce68b60"
      },
      "source": [
        "---"
      ]
    },
    {
      "cell_type": "markdown",
      "id": "88c8936c",
      "metadata": {
        "id": "88c8936c"
      },
      "source": [
        "## 🟩 Remove Job Title from Set (1.10.2)"
      ]
    },
    {
      "cell_type": "code",
      "execution_count": 6,
      "id": "dd12611a",
      "metadata": {
        "id": "dd12611a",
        "outputId": "b331c946-3a5c-442a-ee90-ee8c6009f3a0",
        "colab": {
          "base_uri": "https://localhost:8080/"
        }
      },
      "outputs": [
        {
          "output_type": "execute_result",
          "data": {
            "text/plain": [
              "{'Data Scientist', 'Machine Learning Engineer'}"
            ]
          },
          "metadata": {},
          "execution_count": 6
        }
      ],
      "source": [
        "# Code Needed\n",
        "unique_job_titles = {'Data Scientist', 'Data Analyst', 'Machine Learning Engineer'}\n",
        "unique_job_titles.pop()\n",
        "unique_job_titles\n",
        "\n"
      ]
    },
    {
      "cell_type": "markdown",
      "id": "4c803884",
      "metadata": {
        "id": "4c803884"
      },
      "source": [
        "---"
      ]
    },
    {
      "cell_type": "markdown",
      "id": "ec940385",
      "metadata": {
        "id": "ec940385"
      },
      "source": [
        "## 🟩 Create Unique Job Locations Set (1.10.3)"
      ]
    },
    {
      "cell_type": "code",
      "execution_count": 11,
      "id": "fd7983e1",
      "metadata": {
        "id": "fd7983e1",
        "outputId": "298b25d4-3873-49c7-855f-004823514c2a",
        "colab": {
          "base_uri": "https://localhost:8080/"
        }
      },
      "outputs": [
        {
          "output_type": "execute_result",
          "data": {
            "text/plain": [
              "{'Austin', 'New York', 'San Francisco'}"
            ]
          },
          "metadata": {},
          "execution_count": 11
        }
      ],
      "source": [
        "# Code Needed\n",
        "job_locations = ['New York', 'San Francisco', 'New York', 'Austin', 'San Francisco']\n",
        "job_loc_set=set(job_locations)\n",
        "job_loc_set"
      ]
    },
    {
      "cell_type": "markdown",
      "id": "bfac45d1",
      "metadata": {
        "id": "bfac45d1"
      },
      "source": [
        "---"
      ]
    },
    {
      "cell_type": "markdown",
      "id": "910d6bab",
      "metadata": {
        "id": "910d6bab"
      },
      "source": [
        "## 🟨 Union of Job Skills Sets (1.10.4)"
      ]
    },
    {
      "cell_type": "code",
      "execution_count": 12,
      "id": "75ba0d0c",
      "metadata": {
        "id": "75ba0d0c",
        "outputId": "d44cf23f-931d-45ac-9349-c663a0f7afa0",
        "colab": {
          "base_uri": "https://localhost:8080/"
        }
      },
      "outputs": [
        {
          "output_type": "execute_result",
          "data": {
            "text/plain": [
              "{'Machine Learning', 'Python', 'R', 'SQL', 'Tableau'}"
            ]
          },
          "metadata": {},
          "execution_count": 12
        }
      ],
      "source": [
        "# Code Needed\n",
        "skills_set1 = {'Python', 'SQL', 'Tableau'}\n",
        "skills_set2 = {'R', 'SQL', 'Machine Learning'}\n",
        "skills_set=skills_set1.union(skills_set2)\n",
        "skills_set"
      ]
    },
    {
      "cell_type": "markdown",
      "id": "55d254da",
      "metadata": {
        "id": "55d254da"
      },
      "source": [
        "---"
      ]
    }
  ],
  "metadata": {
    "colab": {
      "provenance": []
    },
    "language_info": {
      "name": "python"
    },
    "kernelspec": {
      "name": "python3",
      "display_name": "Python 3"
    }
  },
  "nbformat": 4,
  "nbformat_minor": 5
}