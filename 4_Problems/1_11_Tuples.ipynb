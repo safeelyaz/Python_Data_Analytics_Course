{
  "cells": [
    {
      "cell_type": "markdown",
      "id": "20500a42",
      "metadata": {
        "id": "20500a42"
      },
      "source": [
        "<a target=\"_blank\" href=\"https://colab.research.google.com/github/lukebarousse/Python_Data_Analytics_Course/blob/main/4_Problems/1_11_Tuples.ipynb\">\n",
        "  <img src=\"https://colab.research.google.com/assets/colab-badge.svg\" alt=\"Open In Colab\"/>\n",
        "</a>"
      ]
    },
    {
      "cell_type": "markdown",
      "id": "5abdbe55",
      "metadata": {
        "id": "5abdbe55"
      },
      "source": [
        "## 🟩 Access Job Role (1.11.1)"
      ]
    },
    {
      "cell_type": "code",
      "execution_count": 4,
      "id": "1d281195",
      "metadata": {
        "id": "1d281195",
        "outputId": "fc27b1d1-6eef-44bd-ecce-fbe57d30e5b7",
        "colab": {
          "base_uri": "https://localhost:8080/"
        }
      },
      "outputs": [
        {
          "output_type": "execute_result",
          "data": {
            "text/plain": [
              "('Data Analyst', 'Machine Learning Engineer')"
            ]
          },
          "metadata": {},
          "execution_count": 4
        }
      ],
      "source": [
        "# Code Needed\n",
        "job_roles = ('Data Scientist', 'Data Analyst', 'Machine Learning Engineer')\n",
        "job_roles[1:3]"
      ]
    },
    {
      "cell_type": "markdown",
      "id": "55986731",
      "metadata": {
        "id": "55986731"
      },
      "source": [
        "---"
      ]
    },
    {
      "cell_type": "markdown",
      "id": "ff20fe2b",
      "metadata": {
        "id": "ff20fe2b"
      },
      "source": [
        "## 🟨 Add Job Role to Tuple (1.11.2)"
      ]
    },
    {
      "cell_type": "code",
      "execution_count": 12,
      "id": "3c540847",
      "metadata": {
        "id": "3c540847",
        "outputId": "c36c3cb8-44c3-4d41-befb-99bbd02c8705",
        "colab": {
          "base_uri": "https://localhost:8080/"
        }
      },
      "outputs": [
        {
          "output_type": "stream",
          "name": "stdout",
          "text": [
            "136813342567488\n",
            "136814104128992\n"
          ]
        }
      ],
      "source": [
        "# Code Needed\n",
        "job_roles = ('Data Scientist', 'Data Analyst', 'Machine Learning Engineer')\n",
        "print(id(job_roles))\n",
        "job_roles=('Data Scientist', 'Data Analyst', 'Machine Learning Engineer','Data Eng')\n",
        "print(id(job_roles))"
      ]
    },
    {
      "cell_type": "markdown",
      "id": "675ef461",
      "metadata": {
        "id": "675ef461"
      },
      "source": [
        "---"
      ]
    },
    {
      "cell_type": "markdown",
      "id": "790f26db",
      "metadata": {
        "id": "790f26db"
      },
      "source": [
        "## 🟨 Remove Job Role from Tuple (1.11.3)"
      ]
    },
    {
      "cell_type": "code",
      "execution_count": 14,
      "id": "0b7cb7af",
      "metadata": {
        "id": "0b7cb7af",
        "outputId": "48ebc956-0342-421d-a2a3-711f02190ceb",
        "colab": {
          "base_uri": "https://localhost:8080/"
        }
      },
      "outputs": [
        {
          "output_type": "execute_result",
          "data": {
            "text/plain": [
              "('Data Scientist', 'Data Analyst')"
            ]
          },
          "metadata": {},
          "execution_count": 14
        }
      ],
      "source": [
        "# Code Needed\n",
        "job_roles = ('Data Scientist', 'Data Analyst', 'Machine Learning Engineer')\n",
        "job_roles = ('Data Scientist', 'Data Analyst')\n",
        "job_roles"
      ]
    },
    {
      "cell_type": "markdown",
      "id": "ffb135cd",
      "metadata": {
        "id": "ffb135cd"
      },
      "source": [
        "---"
      ]
    },
    {
      "cell_type": "markdown",
      "id": "62a6e18a",
      "metadata": {
        "id": "62a6e18a"
      },
      "source": [
        "## 🟨 Unpack Job Postings Tuple (1.11.4)"
      ]
    },
    {
      "cell_type": "code",
      "execution_count": 34,
      "id": "bb771d79",
      "metadata": {
        "id": "bb771d79",
        "outputId": "dd3634cc-39c0-4aa6-be31-b33f72951323",
        "colab": {
          "base_uri": "https://localhost:8080/",
          "height": 110
        }
      },
      "outputs": [
        {
          "output_type": "error",
          "ename": "SyntaxError",
          "evalue": "incomplete input (<ipython-input-34-a232e1cddd1f>, line 3)",
          "traceback": [
            "\u001b[0;36m  File \u001b[0;32m\"<ipython-input-34-a232e1cddd1f>\"\u001b[0;36m, line \u001b[0;32m3\u001b[0m\n\u001b[0;31m    tuple(range(len(job_postings))\u001b[0m\n\u001b[0m                                  ^\u001b[0m\n\u001b[0;31mSyntaxError\u001b[0m\u001b[0;31m:\u001b[0m incomplete input\n"
          ]
        }
      ],
      "source": [
        "# Code Needed\n",
        "job_postings = (120, 80, 50)\n",
        "for i in job_postings:\n",
        "  print(i)"
      ]
    },
    {
      "cell_type": "markdown",
      "id": "ca603ef4",
      "metadata": {
        "id": "ca603ef4"
      },
      "source": [
        "---"
      ]
    },
    {
      "cell_type": "markdown",
      "id": "b0965dc7",
      "metadata": {
        "id": "b0965dc7"
      },
      "source": [
        "## 🟥 Extract Nested Value from Tuple (1.11.5)"
      ]
    },
    {
      "cell_type": "code",
      "execution_count": 32,
      "id": "704fad1b",
      "metadata": {
        "id": "704fad1b",
        "outputId": "7a474921-3c68-4f10-ab99-2c8a502aac41",
        "colab": {
          "base_uri": "https://localhost:8080/"
        }
      },
      "outputs": [
        {
          "output_type": "execute_result",
          "data": {
            "text/plain": [
              "('Data Scientist', 120)"
            ]
          },
          "metadata": {},
          "execution_count": 32
        }
      ],
      "source": [
        "# Code Needed\n",
        "job_details = (('Data Scientist', 120), ('Data Analyst', 80), ('Machine Learning Engineer', 50))\n",
        "job_details.__getitem__(0)"
      ]
    },
    {
      "cell_type": "markdown",
      "id": "78683f7a",
      "metadata": {
        "id": "78683f7a"
      },
      "source": [
        "---"
      ]
    }
  ],
  "metadata": {
    "colab": {
      "provenance": []
    },
    "language_info": {
      "name": "python"
    },
    "kernelspec": {
      "name": "python3",
      "display_name": "Python 3"
    }
  },
  "nbformat": 4,
  "nbformat_minor": 5
}