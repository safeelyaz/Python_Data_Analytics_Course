{
  "cells": [
    {
      "cell_type": "markdown",
      "id": "036c0cb0",
      "metadata": {
        "id": "036c0cb0"
      },
      "source": [
        "<a target=\"_blank\" href=\"https://colab.research.google.com/github/lukebarousse/Python_Data_Analytics_Course/blob/main/4_Problems/1_12_Operators Part 2.ipynb\">\n",
        "  <img src=\"https://colab.research.google.com/assets/colab-badge.svg\" alt=\"Open In Colab\"/>\n",
        "</a>"
      ]
    },
    {
      "cell_type": "markdown",
      "id": "e576e738",
      "metadata": {
        "id": "e576e738"
      },
      "source": [
        "## 🟩 Check Object Identity (1.12.1)"
      ]
    },
    {
      "cell_type": "code",
      "execution_count": 3,
      "id": "28d20b63",
      "metadata": {
        "id": "28d20b63",
        "outputId": "1a995151-51a3-4a29-b247-89852ac9d708",
        "colab": {
          "base_uri": "https://localhost:8080/"
        }
      },
      "outputs": [
        {
          "output_type": "execute_result",
          "data": {
            "text/plain": [
              "False"
            ]
          },
          "metadata": {},
          "execution_count": 3
        }
      ],
      "source": [
        "# Code Needed\n",
        "job_title1 = 'Data Engineer'\n",
        "job_title2 = 'Data Scientist'\n",
        "job_title1 == job_title2"
      ]
    },
    {
      "cell_type": "markdown",
      "id": "578c026c",
      "metadata": {
        "id": "578c026c"
      },
      "source": [
        "---"
      ]
    },
    {
      "cell_type": "markdown",
      "id": "55d410b4",
      "metadata": {
        "id": "55d410b4"
      },
      "source": [
        "## 🟩 Check Membership in List (1.12.2)"
      ]
    },
    {
      "cell_type": "code",
      "execution_count": 1,
      "id": "83716fca",
      "metadata": {
        "id": "83716fca",
        "outputId": "1024b9d1-3f1b-4fb5-832e-e53ddbdd9aac",
        "colab": {
          "base_uri": "https://localhost:8080/"
        }
      },
      "outputs": [
        {
          "output_type": "execute_result",
          "data": {
            "text/plain": [
              "True"
            ]
          },
          "metadata": {},
          "execution_count": 1
        }
      ],
      "source": [
        "# Code Needed\n",
        "job_locations = ['New York', 'San Francisco', 'Austin']\n",
        "'New York' in job_locations"
      ]
    },
    {
      "cell_type": "markdown",
      "id": "3fea50ad",
      "metadata": {
        "id": "3fea50ad"
      },
      "source": [
        "---"
      ]
    },
    {
      "cell_type": "markdown",
      "id": "32e38743",
      "metadata": {
        "id": "32e38743"
      },
      "source": [
        "## 🟨 Check Substring Not in String (1.12.3)"
      ]
    },
    {
      "cell_type": "code",
      "execution_count": 2,
      "id": "cffe612f",
      "metadata": {
        "id": "cffe612f",
        "outputId": "809d8e86-868b-4d1b-8691-0fc0c886da47",
        "colab": {
          "base_uri": "https://localhost:8080/"
        }
      },
      "outputs": [
        {
          "output_type": "execute_result",
          "data": {
            "text/plain": [
              "True"
            ]
          },
          "metadata": {},
          "execution_count": 2
        }
      ],
      "source": [
        "# Code Needed\n",
        "job_title = 'Data Analyst'\n",
        "job_description = 'Data Scientist at Tech Corp'\n",
        "job_title not in job_description"
      ]
    },
    {
      "cell_type": "markdown",
      "id": "2fe810e2",
      "metadata": {
        "id": "2fe810e2"
      },
      "source": [
        "---"
      ]
    },
    {
      "cell_type": "markdown",
      "id": "d93644ab",
      "metadata": {
        "id": "d93644ab"
      },
      "source": [
        "## 🟨 Check Multiple Memberships (1.12.4)"
      ]
    },
    {
      "cell_type": "code",
      "execution_count": 5,
      "id": "66430c97",
      "metadata": {
        "id": "66430c97",
        "outputId": "adad662a-24ae-4ef5-983c-eaa944508fe1",
        "colab": {
          "base_uri": "https://localhost:8080/"
        }
      },
      "outputs": [
        {
          "output_type": "execute_result",
          "data": {
            "text/plain": [
              "False"
            ]
          },
          "metadata": {},
          "execution_count": 5
        }
      ],
      "source": [
        "# Code Needed\n",
        "job_titles = ['Data Scientist', 'Data Analyst', 'Machine Learning Engineer']\n",
        "'Data Eng' and 'Data Le' in job_titles"
      ]
    },
    {
      "cell_type": "markdown",
      "id": "844a092e",
      "metadata": {
        "id": "844a092e"
      },
      "source": [
        "---"
      ]
    },
    {
      "cell_type": "markdown",
      "id": "98e8e55f",
      "metadata": {
        "id": "98e8e55f"
      },
      "source": [
        "## 🟥 Bitwise OR Operation (1.12.5)"
      ]
    },
    {
      "cell_type": "code",
      "execution_count": 6,
      "id": "c6f178cc",
      "metadata": {
        "id": "c6f178cc",
        "outputId": "e4a3ce55-a19d-46f9-d72e-4bd797355247",
        "colab": {
          "base_uri": "https://localhost:8080/"
        }
      },
      "outputs": [
        {
          "output_type": "stream",
          "name": "stdout",
          "text": [
            "116720\n"
          ]
        }
      ],
      "source": [
        "# Code Needed\n",
        "salary1 = 100000\n",
        "salary2 = 50000\n",
        "print(salary1 | salary2 )"
      ]
    },
    {
      "cell_type": "markdown",
      "id": "13780309",
      "metadata": {
        "id": "13780309"
      },
      "source": [
        "---"
      ]
    }
  ],
  "metadata": {
    "colab": {
      "provenance": []
    },
    "language_info": {
      "name": "python"
    },
    "kernelspec": {
      "name": "python3",
      "display_name": "Python 3"
    }
  },
  "nbformat": 4,
  "nbformat_minor": 5
}