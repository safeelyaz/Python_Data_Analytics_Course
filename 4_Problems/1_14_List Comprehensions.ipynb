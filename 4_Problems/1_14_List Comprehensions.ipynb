{
  "cells": [
    {
      "cell_type": "markdown",
      "id": "d867f31c",
      "metadata": {
        "id": "d867f31c"
      },
      "source": [
        "<a target=\"_blank\" href=\"https://colab.research.google.com/github/lukebarousse/Python_Data_Analytics_Course/blob/main/4_Problems/1_14_List Comprehensions.ipynb\">\n",
        "  <img src=\"https://colab.research.google.com/assets/colab-badge.svg\" alt=\"Open In Colab\"/>\n",
        "</a>"
      ]
    },
    {
      "cell_type": "code",
      "source": [
        "# Define data science job roles and required skills\n",
        "job_roles = [\n",
        "    {'role': 'Data Analyst', 'skills': ['Python', 'SQL', 'Excel']},\n",
        "    {'role': 'Data Scientist', 'skills': ['Python', 'R', 'Machine Learning', 'Deep Learning']},\n",
        "    {'role': 'Machine Learning Engineer', 'skills': ['Python', 'TensorFlow', 'PyTorch', 'Scikit-Learn']},\n",
        "    {'role': 'Data Engineer', 'skills': ['Python', 'Apache Spark', 'Hadoop', 'SQL']},\n",
        "    {'role': 'Business Intelligence Analyst', 'skills': ['Python', 'SQL', 'Tableau', 'Power BI', 'Excel']},\n",
        "    {'role': 'Quantitative Analyst', 'skills': ['R', 'Python', 'MATLAB', 'Statistics']},\n",
        "    {'role': 'Operations Analyst', 'skills': ['Python', 'SQL', 'Data Visualization', 'Process Improvement']},\n",
        "    {'role': 'Database Administrator', 'skills': ['SQL', 'Oracle', 'MySQL', 'Database Management']},\n",
        "    {'role': 'AI Engineer', 'skills': ['Python', 'TensorFlow', 'PyTorch', 'Computer Vision']},\n",
        "    {'role': 'Statistician', 'skills': ['R', 'SAS', 'Python', 'Statistical Modeling']}\n",
        "]\n",
        "# My skills\n",
        "my_skills = ['Python', 'SQL', 'Excel']\n",
        "d_job_roles={}\n",
        "for i in job_roles:\n",
        "  d_job_roles.update({i['role']:i['skills']})\n",
        "# d_job_roles\n",
        "# print (f\"\\n {list(d_job_roles.values())}\")\n",
        "\n"
      ],
      "metadata": {
        "id": "6dUYQrz0EZVV"
      },
      "id": "6dUYQrz0EZVV",
      "execution_count": 76,
      "outputs": []
    },
    {
      "cell_type": "markdown",
      "id": "9fbee277",
      "metadata": {
        "id": "9fbee277"
      },
      "source": [
        "## 🟩 Convert Salaries to EUR (1.14.1)"
      ]
    },
    {
      "cell_type": "code",
      "execution_count": 16,
      "id": "9bf35e2c",
      "metadata": {
        "colab": {
          "base_uri": "https://localhost:8080/"
        },
        "id": "9bf35e2c",
        "outputId": "395d13e9-396c-40b8-8264-2c0775cbd7d6"
      },
      "outputs": [
        {
          "output_type": "execute_result",
          "data": {
            "text/plain": [
              "[95000.0, 114000.0, 76000.0, 85500.0]"
            ]
          },
          "metadata": {},
          "execution_count": 16
        }
      ],
      "source": [
        "# Code Needed\n",
        "salaries_usd = [100000, 120000, 80000, 90000]\n",
        "salaries_eu=[(x*0.95) for x in salaries_usd]\n",
        "salaries_eu"
      ]
    },
    {
      "cell_type": "markdown",
      "id": "b39ae7d7",
      "metadata": {
        "id": "b39ae7d7"
      },
      "source": [
        "---"
      ]
    },
    {
      "cell_type": "markdown",
      "id": "9f4449d5",
      "metadata": {
        "id": "9f4449d5"
      },
      "source": [
        "## 🟨 Create List of Data Jobs (1.14.2)"
      ]
    },
    {
      "cell_type": "code",
      "execution_count": 25,
      "id": "9bbcdc8f",
      "metadata": {
        "colab": {
          "base_uri": "https://localhost:8080/"
        },
        "id": "9bbcdc8f",
        "outputId": "0b648514-560f-4cda-bce6-0377b4bf073e"
      },
      "outputs": [
        {
          "output_type": "execute_result",
          "data": {
            "text/plain": [
              "['Data Scientist',\n",
              " 'Data Analyst',\n",
              " 'Machine Learning Specialist',\n",
              " 'Data Engineer']"
            ]
          },
          "metadata": {},
          "execution_count": 25
        }
      ],
      "source": [
        "# Code Needed\n",
        "job_experience = {'Data Scientist': 3, 'Data Analyst': 1, 'Machine Learning Specialist': 4, 'Data Engineer': 2}\n",
        "job_experience_list=[x for x in job_experience.keys()]\n",
        "job_experience_list"
      ]
    },
    {
      "cell_type": "markdown",
      "id": "7df2d173",
      "metadata": {
        "id": "7df2d173"
      },
      "source": [
        "---"
      ]
    },
    {
      "cell_type": "markdown",
      "id": "1e81b0cb",
      "metadata": {
        "id": "1e81b0cb"
      },
      "source": [
        "## 🟥 Extract High Salary Jobs (1.14.3)"
      ]
    },
    {
      "cell_type": "code",
      "execution_count": 58,
      "id": "c3d8887b",
      "metadata": {
        "colab": {
          "base_uri": "https://localhost:8080/"
        },
        "id": "c3d8887b",
        "outputId": "d08477da-34bd-474f-df8a-633a9e07448a"
      },
      "outputs": [
        {
          "output_type": "execute_result",
          "data": {
            "text/plain": [
              "['Data Analyst']"
            ]
          },
          "metadata": {},
          "execution_count": 58
        }
      ],
      "source": [
        "# Code Needed\n",
        "job_salary_dicts = [{'job_title': 'Data Scientist', 'salary': 100000}, {'job_title': 'Data Analyst', 'salary': 120000}, {'job_title': 'Data Engineer', 'salary': 80000}, {'job_title': 'Machine Learning Engineer', 'salary': 90000}]\n",
        "# d={}\n",
        "# for i in job_salary_dicts:\n",
        "#   d.update({i['job_title']:i['salary']})\n",
        "# for key, value in d.items():\n",
        "#   if value>100000:\n",
        "#     print(key)\n",
        "\n",
        "d={i['job_title']:i['salary'] for i in job_salary_dicts}\n",
        "result=[key for key,value in d.items() if value>100000]\n",
        "result"
      ]
    },
    {
      "cell_type": "markdown",
      "id": "fb79abd5",
      "metadata": {
        "id": "fb79abd5"
      },
      "source": [
        "---"
      ]
    }
  ],
  "metadata": {
    "colab": {
      "provenance": []
    },
    "language_info": {
      "name": "python"
    },
    "kernelspec": {
      "name": "python3",
      "display_name": "Python 3"
    }
  },
  "nbformat": 4,
  "nbformat_minor": 5
}