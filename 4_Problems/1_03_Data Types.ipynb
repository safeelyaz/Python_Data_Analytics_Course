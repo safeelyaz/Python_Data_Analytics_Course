{
  "cells": [
    {
      "cell_type": "markdown",
      "id": "7ab4aeb5",
      "metadata": {
        "id": "7ab4aeb5"
      },
      "source": [
        "<a target=\"_blank\" href=\"https://colab.research.google.com/github/lukebarousse/Python_Data_Analytics_Course/blob/main/4_Problems/1_03_Data Types.ipynb\">\n",
        "  <img src=\"https://colab.research.google.com/assets/colab-badge.svg\" alt=\"Open In Colab\"/>\n",
        "</a>"
      ]
    },
    {
      "cell_type": "markdown",
      "id": "5574e3d0",
      "metadata": {
        "id": "5574e3d0"
      },
      "source": [
        "## 🟩 Check Data Type (1.3.1)"
      ]
    },
    {
      "cell_type": "code",
      "execution_count": 1,
      "id": "ca389065",
      "metadata": {
        "id": "ca389065",
        "outputId": "660ff046-0ff4-490e-8a34-4a625df67580",
        "colab": {
          "base_uri": "https://localhost:8080/"
        }
      },
      "outputs": [
        {
          "output_type": "execute_result",
          "data": {
            "text/plain": [
              "str"
            ]
          },
          "metadata": {},
          "execution_count": 1
        }
      ],
      "source": [
        "# Code Needed\n",
        "job_title = 'Data Scientist'\n",
        "type(job_title)"
      ]
    },
    {
      "cell_type": "markdown",
      "id": "7b166e5c",
      "metadata": {
        "id": "7b166e5c"
      },
      "source": [
        "---"
      ]
    },
    {
      "cell_type": "markdown",
      "id": "bc4093b6",
      "metadata": {
        "id": "bc4093b6"
      },
      "source": [
        "## 🟩 Check Float Type (1.3.2)"
      ]
    },
    {
      "cell_type": "code",
      "execution_count": 2,
      "id": "07954965",
      "metadata": {
        "id": "07954965",
        "outputId": "912b17b6-3c96-4ca2-e2b0-7cd595230b9b",
        "colab": {
          "base_uri": "https://localhost:8080/"
        }
      },
      "outputs": [
        {
          "output_type": "execute_result",
          "data": {
            "text/plain": [
              "float"
            ]
          },
          "metadata": {},
          "execution_count": 2
        }
      ],
      "source": [
        "# Code Needed\n",
        "salary = 85000.50\n",
        "type(salary)"
      ]
    },
    {
      "cell_type": "markdown",
      "id": "37ad30b0",
      "metadata": {
        "id": "37ad30b0"
      },
      "source": [
        "---"
      ]
    },
    {
      "cell_type": "markdown",
      "id": "ba5f1ead",
      "metadata": {
        "id": "ba5f1ead"
      },
      "source": [
        "## 🟨 Convert to Integer (1.3.3)"
      ]
    },
    {
      "cell_type": "code",
      "execution_count": 7,
      "id": "4ab358e6",
      "metadata": {
        "id": "4ab358e6",
        "outputId": "ad0a2277-55f3-4f4e-ef3f-153be23fc804",
        "colab": {
          "base_uri": "https://localhost:8080/"
        }
      },
      "outputs": [
        {
          "output_type": "execute_result",
          "data": {
            "text/plain": [
              "120000"
            ]
          },
          "metadata": {},
          "execution_count": 7
        }
      ],
      "source": [
        "# Code Needed\n",
        "salary_rate = 120000.75\n",
        "salary_rate=int(salary_rate)\n",
        "type(salary_rate)\n",
        "salary_rate"
      ]
    },
    {
      "cell_type": "markdown",
      "id": "5cd8185f",
      "metadata": {
        "id": "5cd8185f"
      },
      "source": [
        "---"
      ]
    },
    {
      "cell_type": "markdown",
      "id": "54a9cf24",
      "metadata": {
        "id": "54a9cf24"
      },
      "source": [
        "## 🟥 Check String Type (1.3.4)"
      ]
    },
    {
      "cell_type": "code",
      "execution_count": 4,
      "id": "b34b708d",
      "metadata": {
        "id": "b34b708d",
        "outputId": "585ffeaf-2a36-4bde-b791-e96a99a33a41",
        "colab": {
          "base_uri": "https://localhost:8080/"
        }
      },
      "outputs": [
        {
          "output_type": "execute_result",
          "data": {
            "text/plain": [
              "str"
            ]
          },
          "metadata": {},
          "execution_count": 4
        }
      ],
      "source": [
        "# Code Needed\n",
        "company_name = 'DataWiz Inc.'\n",
        "type(company_name)"
      ]
    },
    {
      "cell_type": "markdown",
      "id": "d3225984",
      "metadata": {
        "id": "d3225984"
      },
      "source": [
        "---"
      ]
    }
  ],
  "metadata": {
    "colab": {
      "provenance": []
    },
    "language_info": {
      "name": "python"
    },
    "kernelspec": {
      "name": "python3",
      "display_name": "Python 3"
    }
  },
  "nbformat": 4,
  "nbformat_minor": 5
}