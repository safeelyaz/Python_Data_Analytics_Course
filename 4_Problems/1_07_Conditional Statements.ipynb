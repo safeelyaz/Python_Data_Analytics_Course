{
  "cells": [
    {
      "cell_type": "markdown",
      "id": "e3327670",
      "metadata": {
        "id": "e3327670"
      },
      "source": [
        "<a target=\"_blank\" href=\"https://colab.research.google.com/github/lukebarousse/Python_Data_Analytics_Course/blob/main/4_Problems/1_07_Conditional Statements.ipynb\">\n",
        "  <img src=\"https://colab.research.google.com/assets/colab-badge.svg\" alt=\"Open In Colab\"/>\n",
        "</a>"
      ]
    },
    {
      "cell_type": "markdown",
      "id": "2aaa1761",
      "metadata": {
        "id": "2aaa1761"
      },
      "source": [
        "## 🟩 Determine Python Experience (1.7.1)"
      ]
    },
    {
      "cell_type": "code",
      "execution_count": 1,
      "id": "9eaa2dc1",
      "metadata": {
        "id": "9eaa2dc1",
        "outputId": "cea8fe0b-246d-4048-a097-7a2cf7f558b3",
        "colab": {
          "base_uri": "https://localhost:8080/"
        }
      },
      "outputs": [
        {
          "output_type": "stream",
          "name": "stdout",
          "text": [
            "Advanced\n"
          ]
        }
      ],
      "source": [
        "# Code Needed\n",
        "python_experience = 3\n",
        "if python_experience <= 1:\n",
        "  print(\"Beginner\")\n",
        "elif python_experience ==2:\n",
        "    print(\"Novice\")\n",
        "else:\n",
        "  print(\"Advanced\")"
      ]
    },
    {
      "cell_type": "markdown",
      "id": "e5985de7",
      "metadata": {
        "id": "e5985de7"
      },
      "source": [
        "---"
      ]
    },
    {
      "cell_type": "markdown",
      "id": "1d103802",
      "metadata": {
        "id": "1d103802"
      },
      "source": [
        "## 🟨 Determine Job Skill Level (1.7.2)"
      ]
    },
    {
      "cell_type": "code",
      "execution_count": 2,
      "id": "bb543cdd",
      "metadata": {
        "id": "bb543cdd",
        "outputId": "4b094104-2468-4b8c-ed89-20d6c06b0d31",
        "colab": {
          "base_uri": "https://localhost:8080/"
        }
      },
      "outputs": [
        {
          "output_type": "stream",
          "name": "stdout",
          "text": [
            "Advanced\n"
          ]
        }
      ],
      "source": [
        "# Code Needed\n",
        "tools_known = 3\n",
        "if tools_known <= 1:\n",
        "  print(\"Beginner\")\n",
        "elif tools_known ==2:\n",
        "    print(\"Novice\")\n",
        "else:\n",
        "  print(\"Advanced\")"
      ]
    },
    {
      "cell_type": "markdown",
      "id": "fdf0324b",
      "metadata": {
        "id": "fdf0324b"
      },
      "source": [
        "---"
      ]
    },
    {
      "cell_type": "markdown",
      "id": "847f3e27",
      "metadata": {
        "id": "847f3e27"
      },
      "source": [
        "## 🟥 Determine Job Title (1.7.3)"
      ]
    },
    {
      "cell_type": "code",
      "execution_count": null,
      "id": "f73925e8",
      "metadata": {
        "id": "f73925e8"
      },
      "outputs": [],
      "source": [
        "# Code Needed\n",
        "job_experience = 4\n",
        "sql_experience = 2"
      ]
    },
    {
      "cell_type": "markdown",
      "id": "5a5189c6",
      "metadata": {
        "id": "5a5189c6"
      },
      "source": [
        "---"
      ]
    }
  ],
  "metadata": {
    "colab": {
      "provenance": []
    },
    "language_info": {
      "name": "python"
    },
    "kernelspec": {
      "name": "python3",
      "display_name": "Python 3"
    }
  },
  "nbformat": 4,
  "nbformat_minor": 5
}