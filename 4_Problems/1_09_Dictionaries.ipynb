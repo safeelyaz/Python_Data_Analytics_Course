{
  "cells": [
    {
      "cell_type": "markdown",
      "id": "a0409ef1",
      "metadata": {
        "id": "a0409ef1"
      },
      "source": [
        "<a target=\"_blank\" href=\"https://colab.research.google.com/github/lukebarousse/Python_Data_Analytics_Course/blob/main/4_Problems/1_09_Dictionaries.ipynb\">\n",
        "  <img src=\"https://colab.research.google.com/assets/colab-badge.svg\" alt=\"Open In Colab\"/>\n",
        "</a>"
      ]
    },
    {
      "cell_type": "markdown",
      "id": "e9170a0a",
      "metadata": {
        "id": "e9170a0a"
      },
      "source": [
        "## 🟩 Access Job Postings (1.9.1)"
      ]
    },
    {
      "cell_type": "code",
      "execution_count": 5,
      "id": "c94b145c",
      "metadata": {
        "id": "c94b145c",
        "outputId": "369ba116-586b-4fe3-c2cd-5dce80f62a0f",
        "colab": {
          "base_uri": "https://localhost:8080/"
        }
      },
      "outputs": [
        {
          "output_type": "execute_result",
          "data": {
            "text/plain": [
              "80"
            ]
          },
          "metadata": {},
          "execution_count": 5
        }
      ],
      "source": [
        "# Code Needed\n",
        "job_postings = {'Data Scientist': 120, 'Data Analyst': 80, 'Machine Learning Engineer': 50}\n",
        "job_postings.keys()\n",
        "job_postings.values()\n",
        "job_postings.get('Data Analyst')"
      ]
    },
    {
      "cell_type": "markdown",
      "id": "6206eea6",
      "metadata": {
        "id": "6206eea6"
      },
      "source": [
        "---"
      ]
    },
    {
      "cell_type": "markdown",
      "id": "9a967eb2",
      "metadata": {
        "id": "9a967eb2"
      },
      "source": [
        "## 🟩 Add Job Role (1.9.2)"
      ]
    },
    {
      "cell_type": "code",
      "execution_count": 6,
      "id": "e142f46f",
      "metadata": {
        "id": "e142f46f",
        "outputId": "2c1432e6-b6e1-46d3-d269-5d9333c1aa20",
        "colab": {
          "base_uri": "https://localhost:8080/"
        }
      },
      "outputs": [
        {
          "output_type": "execute_result",
          "data": {
            "text/plain": [
              "{'Data Scientist': 120,\n",
              " 'Data Analyst': 80,\n",
              " 'Machine Learning Engineer': 50,\n",
              " 'Data Eng': 40}"
            ]
          },
          "metadata": {},
          "execution_count": 6
        }
      ],
      "source": [
        "# Code Needed\n",
        "job_postings = {'Data Scientist': 120, 'Data Analyst': 80, 'Machine Learning Engineer': 50}\n",
        "job_postings['Data Eng']=40\n",
        "job_postings"
      ]
    },
    {
      "cell_type": "markdown",
      "id": "3305a885",
      "metadata": {
        "id": "3305a885"
      },
      "source": [
        "---"
      ]
    },
    {
      "cell_type": "markdown",
      "id": "9d1a27ec",
      "metadata": {
        "id": "9d1a27ec"
      },
      "source": [
        "## 🟨 Remove Job Role (1.9.3)"
      ]
    },
    {
      "cell_type": "code",
      "execution_count": 8,
      "id": "3e97c9cc",
      "metadata": {
        "id": "3e97c9cc",
        "outputId": "1e0eb243-5dd4-4bf7-f2e4-5d9e1c1b260a",
        "colab": {
          "base_uri": "https://localhost:8080/"
        }
      },
      "outputs": [
        {
          "output_type": "execute_result",
          "data": {
            "text/plain": [
              "{'Data Scientist': 120, 'Machine Learning Engineer': 50}"
            ]
          },
          "metadata": {},
          "execution_count": 8
        }
      ],
      "source": [
        "# Code Needed\n",
        "job_postings = {'Data Scientist': 120, 'Data Analyst': 80, 'Machine Learning Engineer': 50}\n",
        "job_postings.pop('Data Analyst')\n",
        "job_postings"
      ]
    },
    {
      "cell_type": "markdown",
      "id": "4e805b06",
      "metadata": {
        "id": "4e805b06"
      },
      "source": [
        "---"
      ]
    },
    {
      "cell_type": "markdown",
      "id": "bb334124",
      "metadata": {
        "id": "bb334124"
      },
      "source": [
        "## 🟨 Merge Dictionaries (1.9.4)"
      ]
    },
    {
      "cell_type": "code",
      "execution_count": 14,
      "id": "d2fd3ae2",
      "metadata": {
        "id": "d2fd3ae2",
        "outputId": "4b2bf151-0407-479a-b2d6-9e94ada3c821",
        "colab": {
          "base_uri": "https://localhost:8080/"
        }
      },
      "outputs": [
        {
          "output_type": "stream",
          "name": "stdout",
          "text": [
            "{'Data Scientist': 120, 'Data Analyst': 80, 'Machine Learning Engineer': 50, 'AI Specialist': 30}\n"
          ]
        }
      ],
      "source": [
        "# Code Needed\n",
        "job_postings1 = {'Data Scientist': 120, 'Data Analyst': 80}\n",
        "job_postings2 = {'Machine Learning Engineer': 50, 'AI Specialist': 30}\n",
        "\n",
        "job_postings1.update(job_postings2)\n",
        "print(job_postings1)"
      ]
    },
    {
      "cell_type": "markdown",
      "id": "b61f7b57",
      "metadata": {
        "id": "b61f7b57"
      },
      "source": [
        "---"
      ]
    },
    {
      "cell_type": "markdown",
      "id": "791a349d",
      "metadata": {
        "id": "791a349d"
      },
      "source": [
        "## 🟥 Create Nested Dictionary (1.9.5)"
      ]
    },
    {
      "cell_type": "code",
      "execution_count": 17,
      "id": "b5acf180",
      "metadata": {
        "id": "b5acf180",
        "outputId": "f4a55c60-9cb4-4a01-8288-7c68f3e5bd69",
        "colab": {
          "base_uri": "https://localhost:8080/"
        }
      },
      "outputs": [
        {
          "output_type": "execute_result",
          "data": {
            "text/plain": [
              "{'Data Scientist': 120,\n",
              " 'Data Analyst': 80,\n",
              " 'Job Roles': {'Machine Learning Engineer': 50, 'AI Specialist': 30}}"
            ]
          },
          "metadata": {},
          "execution_count": 17
        }
      ],
      "source": [
        "job_postings1 = {\n",
        "    'Data Scientist': 120,\n",
        "    'Data Analyst': 80,\n",
        "    'Job Roles':{\n",
        "     'Machine Learning Engineer': 50,\n",
        "     'AI Specialist': 30\n",
        "     }\n",
        "                 }\n",
        "job_postings1"
      ]
    },
    {
      "cell_type": "markdown",
      "id": "30d9f6d7",
      "metadata": {
        "id": "30d9f6d7"
      },
      "source": [
        "---"
      ]
    }
  ],
  "metadata": {
    "colab": {
      "provenance": []
    },
    "language_info": {
      "name": "python"
    },
    "kernelspec": {
      "name": "python3",
      "display_name": "Python 3"
    }
  },
  "nbformat": 4,
  "nbformat_minor": 5
}