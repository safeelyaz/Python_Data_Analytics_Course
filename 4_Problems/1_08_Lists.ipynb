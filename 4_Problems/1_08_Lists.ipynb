{
  "cells": [
    {
      "cell_type": "markdown",
      "id": "1324a683",
      "metadata": {
        "id": "1324a683"
      },
      "source": [
        "<a target=\"_blank\" href=\"https://colab.research.google.com/github/lukebarousse/Python_Data_Analytics_Course/blob/main/4_Problems/1_08_Lists.ipynb\">\n",
        "  <img src=\"https://colab.research.google.com/assets/colab-badge.svg\" alt=\"Open In Colab\"/>\n",
        "</a>"
      ]
    },
    {
      "cell_type": "markdown",
      "id": "1838d998",
      "metadata": {
        "id": "1838d998"
      },
      "source": [
        "## 🟩 Access Second Job Title (1.8.1)"
      ]
    },
    {
      "cell_type": "code",
      "execution_count": 1,
      "id": "1985369d",
      "metadata": {
        "id": "1985369d",
        "outputId": "19506403-726c-4d93-c0aa-45dc158621c4",
        "colab": {
          "base_uri": "https://localhost:8080/",
          "height": 36
        }
      },
      "outputs": [
        {
          "output_type": "execute_result",
          "data": {
            "text/plain": [
              "'Data Analyst'"
            ],
            "application/vnd.google.colaboratory.intrinsic+json": {
              "type": "string"
            }
          },
          "metadata": {},
          "execution_count": 1
        }
      ],
      "source": [
        "# Code Needed\n",
        "job_titles = ['Data Scientist', 'Data Analyst', 'Machine Learning Engineer']\n",
        "job_titles[1]"
      ]
    },
    {
      "cell_type": "markdown",
      "id": "51c4691d",
      "metadata": {
        "id": "51c4691d"
      },
      "source": [
        "---"
      ]
    },
    {
      "cell_type": "markdown",
      "id": "845d3703",
      "metadata": {
        "id": "845d3703"
      },
      "source": [
        "## 🟩 Change Third Job Title (1.8.2)"
      ]
    },
    {
      "cell_type": "code",
      "execution_count": 2,
      "id": "ec22c646",
      "metadata": {
        "id": "ec22c646",
        "outputId": "9fee7fc2-7e35-46ac-aebb-7232fd221abb",
        "colab": {
          "base_uri": "https://localhost:8080/"
        }
      },
      "outputs": [
        {
          "output_type": "execute_result",
          "data": {
            "text/plain": [
              "['Data Scientist', 'Data Analyst', 'ML Eng']"
            ]
          },
          "metadata": {},
          "execution_count": 2
        }
      ],
      "source": [
        "# Code Needed\n",
        "job_titles = ['Data Scientist', 'Data Analyst', 'Machine Learning Engineer']\n",
        "job_titles[2]='ML Eng'\n",
        "job_titles"
      ]
    },
    {
      "cell_type": "markdown",
      "id": "f0432a95",
      "metadata": {
        "id": "f0432a95"
      },
      "source": [
        "---"
      ]
    },
    {
      "cell_type": "markdown",
      "id": "03761a20",
      "metadata": {
        "id": "03761a20"
      },
      "source": [
        "## 🟩 Slice Job Titles List (1.8.3)"
      ]
    },
    {
      "cell_type": "code",
      "execution_count": 6,
      "id": "6e2440ca",
      "metadata": {
        "id": "6e2440ca",
        "outputId": "7330b838-9f03-44bc-f17e-af9eabc54762",
        "colab": {
          "base_uri": "https://localhost:8080/"
        }
      },
      "outputs": [
        {
          "output_type": "execute_result",
          "data": {
            "text/plain": [
              "['Data Scientist', 'Machine Learning Engineer']"
            ]
          },
          "metadata": {},
          "execution_count": 6
        }
      ],
      "source": [
        "# Code Needed\n",
        "job_titles = ['Data Scientist', 'Data Analyst', 'Machine Learning Engineer', 'Data Engineer']\n",
        "job_titles[0:3:2]"
      ]
    },
    {
      "cell_type": "markdown",
      "id": "574cb0d1",
      "metadata": {
        "id": "574cb0d1"
      },
      "source": [
        "---"
      ]
    },
    {
      "cell_type": "markdown",
      "id": "251109f7",
      "metadata": {
        "id": "251109f7"
      },
      "source": [
        "## 🟨 Append Job Title (1.8.4)"
      ]
    },
    {
      "cell_type": "code",
      "execution_count": 7,
      "id": "fa121574",
      "metadata": {
        "id": "fa121574",
        "outputId": "e2f33c80-05e1-47b4-c2c3-d04d2e11f737",
        "colab": {
          "base_uri": "https://localhost:8080/"
        }
      },
      "outputs": [
        {
          "output_type": "execute_result",
          "data": {
            "text/plain": [
              "['Data Scientist',\n",
              " 'Data Analyst',\n",
              " 'Machine Learning Engineer',\n",
              " 'Data Engineer']"
            ]
          },
          "metadata": {},
          "execution_count": 7
        }
      ],
      "source": [
        "# Code Needed\n",
        "job_titles = ['Data Scientist', 'Data Analyst', 'Machine Learning Engineer']\n",
        "job_titles.append('Data Engineer')\n",
        "job_titles"
      ]
    },
    {
      "cell_type": "markdown",
      "id": "af25c586",
      "metadata": {
        "id": "af25c586"
      },
      "source": [
        "---"
      ]
    },
    {
      "cell_type": "markdown",
      "id": "e5b2814d",
      "metadata": {
        "id": "e5b2814d"
      },
      "source": [
        "## 🟨 Insert Job Title (1.8.5)"
      ]
    },
    {
      "cell_type": "code",
      "execution_count": 12,
      "id": "82ac8332",
      "metadata": {
        "id": "82ac8332",
        "outputId": "e0cb1225-c7e9-4db8-a7cd-7390f47e0c58",
        "colab": {
          "base_uri": "https://localhost:8080/"
        }
      },
      "outputs": [
        {
          "output_type": "execute_result",
          "data": {
            "text/plain": [
              "['Data Scientist', 'Data Analyst', 'Web Designer', 'Machine Learning Engineer']"
            ]
          },
          "metadata": {},
          "execution_count": 12
        }
      ],
      "source": [
        "# Code Needed\n",
        "job_titles = ['Data Scientist', 'Data Analyst', 'Machine Learning Engineer']\n",
        "job_titles.insert(2,'Web Designer')\n",
        "job_titles"
      ]
    },
    {
      "cell_type": "markdown",
      "id": "5c04345c",
      "metadata": {
        "id": "5c04345c"
      },
      "source": [
        "---"
      ]
    }
  ],
  "metadata": {
    "colab": {
      "provenance": []
    },
    "language_info": {
      "name": "python"
    },
    "kernelspec": {
      "name": "python3",
      "display_name": "Python 3"
    }
  },
  "nbformat": 4,
  "nbformat_minor": 5
}