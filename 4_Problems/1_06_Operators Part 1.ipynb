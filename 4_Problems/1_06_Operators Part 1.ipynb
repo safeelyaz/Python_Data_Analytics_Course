{
  "cells": [
    {
      "cell_type": "markdown",
      "id": "8ab55aca",
      "metadata": {
        "id": "8ab55aca"
      },
      "source": [
        "<a target=\"_blank\" href=\"https://colab.research.google.com/github/lukebarousse/Python_Data_Analytics_Course/blob/main/4_Problems/1_06_Operators Part 1.ipynb\">\n",
        "  <img src=\"https://colab.research.google.com/assets/colab-badge.svg\" alt=\"Open In Colab\"/>\n",
        "</a>"
      ]
    },
    {
      "cell_type": "markdown",
      "id": "5c28e09e",
      "metadata": {
        "id": "5c28e09e"
      },
      "source": [
        "## 🟩 Calculate Annual Salary (1.6.1)"
      ]
    },
    {
      "cell_type": "code",
      "execution_count": 1,
      "id": "f5eae247",
      "metadata": {
        "id": "f5eae247",
        "outputId": "82473674-1075-4af6-c3fe-93d6ca95430e",
        "colab": {
          "base_uri": "https://localhost:8080/"
        }
      },
      "outputs": [
        {
          "output_type": "execute_result",
          "data": {
            "text/plain": [
              "96000"
            ]
          },
          "metadata": {},
          "execution_count": 1
        }
      ],
      "source": [
        "# Code Needed\n",
        "monthly_salary = 8000\n",
        "annual_salary=monthly_salary*12\n",
        "annual_salary"
      ]
    },
    {
      "cell_type": "markdown",
      "id": "75a63b15",
      "metadata": {
        "id": "75a63b15"
      },
      "source": [
        "---"
      ]
    },
    {
      "cell_type": "markdown",
      "id": "9f50032f",
      "metadata": {
        "id": "9f50032f"
      },
      "source": [
        "## 🟩 Compare Salaries (1.6.2)"
      ]
    },
    {
      "cell_type": "code",
      "execution_count": 4,
      "id": "d74e5eec",
      "metadata": {
        "id": "d74e5eec",
        "outputId": "f9c05149-d83c-449c-b3db-ce8e6f62b048",
        "colab": {
          "base_uri": "https://localhost:8080/"
        }
      },
      "outputs": [
        {
          "output_type": "stream",
          "name": "stdout",
          "text": [
            "False\n",
            "False\n",
            "True\n"
          ]
        }
      ],
      "source": [
        "# Code Needed\n",
        "avg_salary_analyst = 70000\n",
        "avg_salary_scientist = 85000\n",
        "print(avg_salary_analyst == avg_salary_scientist)\n",
        "print(avg_salary_analyst > avg_salary_scientist)\n",
        "print(avg_salary_analyst < avg_salary_scientist)"
      ]
    },
    {
      "cell_type": "markdown",
      "id": "53cabe65",
      "metadata": {
        "id": "53cabe65"
      },
      "source": [
        "---"
      ]
    },
    {
      "cell_type": "markdown",
      "id": "a0898aab",
      "metadata": {
        "id": "a0898aab"
      },
      "source": [
        "## 🟨 Calculate Remainder (1.6.3)"
      ]
    },
    {
      "cell_type": "code",
      "execution_count": 10,
      "id": "97e2ce73",
      "metadata": {
        "id": "97e2ce73",
        "outputId": "328563cb-ec25-4cfb-cfa6-07f21d2b4b67",
        "colab": {
          "base_uri": "https://localhost:8080/"
        }
      },
      "outputs": [
        {
          "output_type": "execute_result",
          "data": {
            "text/plain": [
              "56"
            ]
          },
          "metadata": {},
          "execution_count": 10
        }
      ],
      "source": [
        "# Code Needed\n",
        "total_applications = 123\n",
        "job_openings = 67\n",
        "reminder=total_applications%job_openings\n",
        "reminder"
      ]
    },
    {
      "cell_type": "markdown",
      "id": "f069d320",
      "metadata": {
        "id": "f069d320"
      },
      "source": [
        "---"
      ]
    },
    {
      "cell_type": "markdown",
      "id": "45fb92ab",
      "metadata": {
        "id": "45fb92ab"
      },
      "source": [
        "## 🟨 Increment Job Postings (1.6.4)"
      ]
    },
    {
      "cell_type": "code",
      "execution_count": 13,
      "id": "c05ce14e",
      "metadata": {
        "id": "c05ce14e",
        "outputId": "85fa3172-12ff-4d9f-d312-c5e1695a1db5",
        "colab": {
          "base_uri": "https://localhost:8080/"
        }
      },
      "outputs": [
        {
          "output_type": "execute_result",
          "data": {
            "text/plain": [
              "23"
            ]
          },
          "metadata": {},
          "execution_count": 13
        }
      ],
      "source": [
        "# Code Needed\n",
        "job_postings = 20\n",
        "job_postings+=3\n",
        "job_postings"
      ]
    },
    {
      "cell_type": "markdown",
      "id": "c4bf5251",
      "metadata": {
        "id": "c4bf5251"
      },
      "source": [
        "---"
      ]
    },
    {
      "cell_type": "markdown",
      "id": "ffe080db",
      "metadata": {
        "id": "ffe080db"
      },
      "source": [
        "## 🟨 Calculate Average Salary (1.6.5)"
      ]
    },
    {
      "cell_type": "code",
      "execution_count": 14,
      "id": "c5bb9dc1",
      "metadata": {
        "id": "c5bb9dc1",
        "outputId": "fdf3be50-65b9-4224-e602-8ded8d55edc4",
        "colab": {
          "base_uri": "https://localhost:8080/"
        }
      },
      "outputs": [
        {
          "output_type": "execute_result",
          "data": {
            "text/plain": [
              "85000.0"
            ]
          },
          "metadata": {},
          "execution_count": 14
        }
      ],
      "source": [
        "# Code Needed\n",
        "min_salary = 50000\n",
        "max_salary = 120000\n",
        "avg_sal=(min_salary+max_salary)/2\n",
        "avg_sal"
      ]
    },
    {
      "cell_type": "markdown",
      "id": "156db404",
      "metadata": {
        "id": "156db404"
      },
      "source": [
        "---"
      ]
    }
  ],
  "metadata": {
    "language_info": {
      "name": "python"
    },
    "colab": {
      "provenance": []
    },
    "kernelspec": {
      "name": "python3",
      "display_name": "Python 3"
    }
  },
  "nbformat": 4,
  "nbformat_minor": 5
}