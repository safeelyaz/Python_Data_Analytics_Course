{
  "cells": [
    {
      "cell_type": "markdown",
      "id": "d307ee11",
      "metadata": {
        "id": "d307ee11"
      },
      "source": [
        "<a target=\"_blank\" href=\"https://colab.research.google.com/github/lukebarousse/Python_Data_Analytics_Course/blob/main/4_Problems/1_13_Loops.ipynb\">\n",
        "  <img src=\"https://colab.research.google.com/assets/colab-badge.svg\" alt=\"Open In Colab\"/>\n",
        "</a>"
      ]
    },
    {
      "cell_type": "markdown",
      "id": "37897aa9",
      "metadata": {
        "id": "37897aa9"
      },
      "source": [
        "## 🟩 Print Job Titles (1.13.1)"
      ]
    },
    {
      "cell_type": "code",
      "execution_count": 1,
      "id": "45d217e3",
      "metadata": {
        "id": "45d217e3",
        "outputId": "751b6125-680b-4d4c-d56b-ad7bf20bcad3",
        "colab": {
          "base_uri": "https://localhost:8080/"
        }
      },
      "outputs": [
        {
          "output_type": "execute_result",
          "data": {
            "text/plain": [
              "['Data Scientist', 'Data Analyst', 'Machine Learning Engineer']"
            ]
          },
          "metadata": {},
          "execution_count": 1
        }
      ],
      "source": [
        "# Code Needed\n",
        "job_titles = ['Data Scientist', 'Data Analyst', 'Machine Learning Engineer']\n",
        "job_titles"
      ]
    },
    {
      "cell_type": "markdown",
      "id": "1943a324",
      "metadata": {
        "id": "1943a324"
      },
      "source": [
        "---"
      ]
    },
    {
      "cell_type": "markdown",
      "id": "90020e24",
      "metadata": {
        "id": "90020e24"
      },
      "source": [
        "## 🟩 Total Job Postings (1.13.2)"
      ]
    },
    {
      "cell_type": "code",
      "execution_count": 2,
      "id": "038f046a",
      "metadata": {
        "id": "038f046a",
        "outputId": "5437cb7c-f60f-4e53-83e8-e1bc40746d4b",
        "colab": {
          "base_uri": "https://localhost:8080/"
        }
      },
      "outputs": [
        {
          "output_type": "execute_result",
          "data": {
            "text/plain": [
              "5"
            ]
          },
          "metadata": {},
          "execution_count": 2
        }
      ],
      "source": [
        "# Code Needed\n",
        "job_postings = [5, 10, 15, 20, 25]\n",
        "len(job_postings)"
      ]
    },
    {
      "cell_type": "markdown",
      "id": "b4abe1cc",
      "metadata": {
        "id": "b4abe1cc"
      },
      "source": [
        "---"
      ]
    },
    {
      "cell_type": "markdown",
      "id": "4eec072a",
      "metadata": {
        "id": "4eec072a"
      },
      "source": [
        "## 🟨 Print Job Titles with Index (1.13.3)"
      ]
    },
    {
      "cell_type": "code",
      "execution_count": 7,
      "id": "ee175f7b",
      "metadata": {
        "id": "ee175f7b",
        "outputId": "65005308-4e00-4ec6-c1ab-1b3f43269cd6",
        "colab": {
          "base_uri": "https://localhost:8080/"
        }
      },
      "outputs": [
        {
          "output_type": "stream",
          "name": "stdout",
          "text": [
            "0 Data Scientist\n",
            "1 Data Analyst\n",
            "2 Machine Learning Engineer\n"
          ]
        }
      ],
      "source": [
        "# Code Needed\n",
        "job_titles = ['Data Scientist', 'Data Analyst', 'Machine Learning Engineer']\n",
        "for i in range(len(job_titles)):\n",
        "  print(i, job_titles[i])"
      ]
    },
    {
      "cell_type": "markdown",
      "id": "d2d5f706",
      "metadata": {
        "id": "d2d5f706"
      },
      "source": [
        "---"
      ]
    },
    {
      "cell_type": "markdown",
      "id": "7001cfa8",
      "metadata": {
        "id": "7001cfa8"
      },
      "source": [
        "## 🟨 Find First Engineer (1.13.4)"
      ]
    },
    {
      "cell_type": "code",
      "execution_count": 11,
      "id": "724ac1bf",
      "metadata": {
        "id": "724ac1bf",
        "outputId": "d6c76c10-91fe-4840-91d0-350744da7d60",
        "colab": {
          "base_uri": "https://localhost:8080/"
        }
      },
      "outputs": [
        {
          "output_type": "stream",
          "name": "stdout",
          "text": [
            "Machine Learning Engineer\n"
          ]
        }
      ],
      "source": [
        "# Code Needed\n",
        "job_titles = ['Data Scientist', 'Data Analyst', 'Machine Learning Engineer', 'Software Engineer']\n",
        "for i in job_titles:\n",
        "  # print(i)\n",
        "  if 'Engineer' in i:\n",
        "    print(i)\n",
        "    break"
      ]
    },
    {
      "cell_type": "markdown",
      "id": "2021b7cd",
      "metadata": {
        "id": "2021b7cd"
      },
      "source": [
        "---"
      ]
    },
    {
      "cell_type": "markdown",
      "id": "be1bf346",
      "metadata": {
        "id": "be1bf346"
      },
      "source": [
        "## 🟥 Print Job Titles Containing 'Data' (1.13.5)"
      ]
    },
    {
      "cell_type": "code",
      "execution_count": 16,
      "id": "c71d29c9",
      "metadata": {
        "id": "c71d29c9",
        "outputId": "87f27530-0baa-4af2-de7b-307d6b93989b",
        "colab": {
          "base_uri": "https://localhost:8080/"
        }
      },
      "outputs": [
        {
          "output_type": "stream",
          "name": "stdout",
          "text": [
            "Data Scientist\n",
            "Data Analyst\n"
          ]
        }
      ],
      "source": [
        "# Code Needed\n",
        "positions_skills = {\n",
        "    'Data Scientist': ['Python', 'R'],\n",
        "    'Data Analyst': ['SQL', 'Excel'],\n",
        "    'Machine Learning Engineer': ['Python', 'TensorFlow']\n",
        "}\n",
        "for key,value in positions_skills.items():\n",
        "  # print(key)\n",
        "  if 'Data' in key:\n",
        "    print(key)"
      ]
    },
    {
      "cell_type": "markdown",
      "id": "11af0530",
      "metadata": {
        "id": "11af0530"
      },
      "source": [
        "---"
      ]
    }
  ],
  "metadata": {
    "colab": {
      "provenance": []
    },
    "language_info": {
      "name": "python"
    },
    "kernelspec": {
      "name": "python3",
      "display_name": "Python 3"
    }
  },
  "nbformat": 4,
  "nbformat_minor": 5
}