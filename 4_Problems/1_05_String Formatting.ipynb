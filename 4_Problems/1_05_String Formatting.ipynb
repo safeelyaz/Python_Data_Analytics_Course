{
  "cells": [
    {
      "cell_type": "markdown",
      "id": "707277df",
      "metadata": {
        "id": "707277df"
      },
      "source": [
        "<a target=\"_blank\" href=\"https://colab.research.google.com/github/lukebarousse/Python_Data_Analytics_Course/blob/main/4_Problems/1_05_String Formatting.ipynb\">\n",
        "  <img src=\"https://colab.research.google.com/assets/colab-badge.svg\" alt=\"Open In Colab\"/>\n",
        "</a>"
      ]
    },
    {
      "cell_type": "markdown",
      "id": "33249ddd",
      "metadata": {
        "id": "33249ddd"
      },
      "source": [
        "## 🟩 Concatenate Strings (1.5.1)"
      ]
    },
    {
      "cell_type": "code",
      "execution_count": 2,
      "id": "f5eb44b1",
      "metadata": {
        "id": "f5eb44b1",
        "outputId": "bd739dcd-5192-43ba-f630-971d27d05c07",
        "colab": {
          "base_uri": "https://localhost:8080/",
          "height": 36
        }
      },
      "outputs": [
        {
          "output_type": "execute_result",
          "data": {
            "text/plain": [
              "'Data Scientist.'"
            ],
            "application/vnd.google.colaboratory.intrinsic+json": {
              "type": "string"
            }
          },
          "metadata": {},
          "execution_count": 2
        }
      ],
      "source": [
        "# Code Needed\n",
        "job_title = 'Data Scientist'\n",
        "job_title+\".\""
      ]
    },
    {
      "cell_type": "markdown",
      "id": "ceadadd2",
      "metadata": {
        "id": "ceadadd2"
      },
      "source": [
        "---"
      ]
    },
    {
      "cell_type": "markdown",
      "id": "4b752a3b",
      "metadata": {
        "id": "4b752a3b"
      },
      "source": [
        "## 🟩 Format with f-strings (1.5.2)"
      ]
    },
    {
      "cell_type": "code",
      "execution_count": 3,
      "id": "f1dd6630",
      "metadata": {
        "id": "f1dd6630",
        "outputId": "7c87bd78-6292-4af1-fd57-71dde408fd6d",
        "colab": {
          "base_uri": "https://localhost:8080/"
        }
      },
      "outputs": [
        {
          "output_type": "stream",
          "name": "stdout",
          "text": [
            "He is working as Data Scientist in the company DataWiz Inc.\n"
          ]
        }
      ],
      "source": [
        "# Code Needed\n",
        "position = 'Data Scientist'\n",
        "company = 'DataWiz Inc.'\n",
        "print(f'He is working as {position} in the company {company}')"
      ]
    },
    {
      "cell_type": "markdown",
      "id": "f3b9b437",
      "metadata": {
        "id": "f3b9b437"
      },
      "source": [
        "---"
      ]
    },
    {
      "cell_type": "markdown",
      "id": "7ccbfb33",
      "metadata": {
        "id": "7ccbfb33"
      },
      "source": [
        "## 🟩 Format with str.format() (1.5.3)"
      ]
    },
    {
      "cell_type": "code",
      "execution_count": 7,
      "id": "3ad6287a",
      "metadata": {
        "id": "3ad6287a",
        "outputId": "5c01cae4-94f3-4dee-e89d-e70ada8360db",
        "colab": {
          "base_uri": "https://localhost:8080/",
          "height": 36
        }
      },
      "outputs": [
        {
          "output_type": "execute_result",
          "data": {
            "text/plain": [
              "'He is working as Data Analyst with a skillset on Python'"
            ],
            "application/vnd.google.colaboratory.intrinsic+json": {
              "type": "string"
            }
          },
          "metadata": {},
          "execution_count": 7
        }
      ],
      "source": [
        "# Code Needed\n",
        "role = 'Data Analyst'\n",
        "skill = 'Python'\n",
        "'He is working as {} with a skillset on {}'.format(role, skill)"
      ]
    },
    {
      "cell_type": "markdown",
      "id": "553e97a6",
      "metadata": {
        "id": "553e97a6"
      },
      "source": [
        "---"
      ]
    },
    {
      "cell_type": "markdown",
      "id": "2539859a",
      "metadata": {
        "id": "2539859a"
      },
      "source": [
        "## 🟨 Format with %-formatting (1.5.4)"
      ]
    },
    {
      "cell_type": "code",
      "execution_count": 8,
      "id": "88cfb9fa",
      "metadata": {
        "id": "88cfb9fa",
        "outputId": "d50553ab-1ad6-4cef-d581-7c92c47e2778",
        "colab": {
          "base_uri": "https://localhost:8080/",
          "height": 36
        }
      },
      "outputs": [
        {
          "output_type": "execute_result",
          "data": {
            "text/plain": [
              "'He is working as Data Engineer with a skillset on SQL'"
            ],
            "application/vnd.google.colaboratory.intrinsic+json": {
              "type": "string"
            }
          },
          "metadata": {},
          "execution_count": 8
        }
      ],
      "source": [
        "# Code Needed\n",
        "role = 'Data Engineer'\n",
        "skill = 'SQL'\n",
        "'He is working as %s with a skillset on %s' % (role, skill)"
      ]
    },
    {
      "cell_type": "markdown",
      "id": "d6081ce3",
      "metadata": {
        "id": "d6081ce3"
      },
      "source": [
        "---"
      ]
    }
  ],
  "metadata": {
    "colab": {
      "provenance": []
    },
    "language_info": {
      "name": "python"
    },
    "kernelspec": {
      "name": "python3",
      "display_name": "Python 3"
    }
  },
  "nbformat": 4,
  "nbformat_minor": 5
}